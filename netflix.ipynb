{
 "cells": [
  {
   "cell_type": "code",
   "execution_count": 1,
   "metadata": {},
   "outputs": [],
   "source": [
    "import pandas as pd\n",
    "import numpy as np\n",
    "import matplotlib.pyplot as plt"
   ]
  },
  {
   "cell_type": "code",
   "execution_count": 2,
   "metadata": {},
   "outputs": [
    {
     "data": {
      "text/plain": [
       "(7787, 12)"
      ]
     },
     "execution_count": 2,
     "metadata": {},
     "output_type": "execute_result"
    }
   ],
   "source": [
    "data=pd.read_csv(\"netflix_titles.csv\")\n",
    "data.shape"
   ]
  },
  {
   "cell_type": "code",
   "execution_count": 3,
   "metadata": {},
   "outputs": [
    {
     "data": {
      "text/html": [
       "<div>\n",
       "<style scoped>\n",
       "    .dataframe tbody tr th:only-of-type {\n",
       "        vertical-align: middle;\n",
       "    }\n",
       "\n",
       "    .dataframe tbody tr th {\n",
       "        vertical-align: top;\n",
       "    }\n",
       "\n",
       "    .dataframe thead th {\n",
       "        text-align: right;\n",
       "    }\n",
       "</style>\n",
       "<table border=\"1\" class=\"dataframe\">\n",
       "  <thead>\n",
       "    <tr style=\"text-align: right;\">\n",
       "      <th></th>\n",
       "      <th>show_id</th>\n",
       "      <th>type</th>\n",
       "      <th>title</th>\n",
       "      <th>director</th>\n",
       "      <th>cast</th>\n",
       "      <th>country</th>\n",
       "      <th>date_added</th>\n",
       "      <th>release_year</th>\n",
       "      <th>rating</th>\n",
       "      <th>duration</th>\n",
       "      <th>listed_in</th>\n",
       "      <th>description</th>\n",
       "    </tr>\n",
       "  </thead>\n",
       "  <tbody>\n",
       "    <tr>\n",
       "      <th>0</th>\n",
       "      <td>s1</td>\n",
       "      <td>TV Show</td>\n",
       "      <td>3%</td>\n",
       "      <td>NaN</td>\n",
       "      <td>João Miguel, Bianca Comparato, Michel Gomes, R...</td>\n",
       "      <td>Brazil</td>\n",
       "      <td>August 14, 2020</td>\n",
       "      <td>2020</td>\n",
       "      <td>TV-MA</td>\n",
       "      <td>4 Seasons</td>\n",
       "      <td>International TV Shows, TV Dramas, TV Sci-Fi &amp;...</td>\n",
       "      <td>In a future where the elite inhabit an island ...</td>\n",
       "    </tr>\n",
       "    <tr>\n",
       "      <th>1</th>\n",
       "      <td>s2</td>\n",
       "      <td>Movie</td>\n",
       "      <td>7:19</td>\n",
       "      <td>Jorge Michel Grau</td>\n",
       "      <td>Demián Bichir, Héctor Bonilla, Oscar Serrano, ...</td>\n",
       "      <td>Mexico</td>\n",
       "      <td>December 23, 2016</td>\n",
       "      <td>2016</td>\n",
       "      <td>TV-MA</td>\n",
       "      <td>93 min</td>\n",
       "      <td>Dramas, International Movies</td>\n",
       "      <td>After a devastating earthquake hits Mexico Cit...</td>\n",
       "    </tr>\n",
       "    <tr>\n",
       "      <th>2</th>\n",
       "      <td>s3</td>\n",
       "      <td>Movie</td>\n",
       "      <td>23:59</td>\n",
       "      <td>Gilbert Chan</td>\n",
       "      <td>Tedd Chan, Stella Chung, Henley Hii, Lawrence ...</td>\n",
       "      <td>Singapore</td>\n",
       "      <td>December 20, 2018</td>\n",
       "      <td>2011</td>\n",
       "      <td>R</td>\n",
       "      <td>78 min</td>\n",
       "      <td>Horror Movies, International Movies</td>\n",
       "      <td>When an army recruit is found dead, his fellow...</td>\n",
       "    </tr>\n",
       "  </tbody>\n",
       "</table>\n",
       "</div>"
      ],
      "text/plain": [
       "  show_id     type  title           director  \\\n",
       "0      s1  TV Show     3%                NaN   \n",
       "1      s2    Movie   7:19  Jorge Michel Grau   \n",
       "2      s3    Movie  23:59       Gilbert Chan   \n",
       "\n",
       "                                                cast    country  \\\n",
       "0  João Miguel, Bianca Comparato, Michel Gomes, R...     Brazil   \n",
       "1  Demián Bichir, Héctor Bonilla, Oscar Serrano, ...     Mexico   \n",
       "2  Tedd Chan, Stella Chung, Henley Hii, Lawrence ...  Singapore   \n",
       "\n",
       "          date_added  release_year rating   duration  \\\n",
       "0    August 14, 2020          2020  TV-MA  4 Seasons   \n",
       "1  December 23, 2016          2016  TV-MA     93 min   \n",
       "2  December 20, 2018          2011      R     78 min   \n",
       "\n",
       "                                           listed_in  \\\n",
       "0  International TV Shows, TV Dramas, TV Sci-Fi &...   \n",
       "1                       Dramas, International Movies   \n",
       "2                Horror Movies, International Movies   \n",
       "\n",
       "                                         description  \n",
       "0  In a future where the elite inhabit an island ...  \n",
       "1  After a devastating earthquake hits Mexico Cit...  \n",
       "2  When an army recruit is found dead, his fellow...  "
      ]
     },
     "execution_count": 3,
     "metadata": {},
     "output_type": "execute_result"
    }
   ],
   "source": [
    "data.head(3)"
   ]
  },
  {
   "cell_type": "code",
   "execution_count": 4,
   "metadata": {},
   "outputs": [
    {
     "name": "stdout",
     "output_type": "stream",
     "text": [
      "<class 'pandas.core.frame.DataFrame'>\n",
      "RangeIndex: 7787 entries, 0 to 7786\n",
      "Data columns (total 12 columns):\n",
      " #   Column        Non-Null Count  Dtype \n",
      "---  ------        --------------  ----- \n",
      " 0   show_id       7787 non-null   object\n",
      " 1   type          7787 non-null   object\n",
      " 2   title         7787 non-null   object\n",
      " 3   director      5398 non-null   object\n",
      " 4   cast          7069 non-null   object\n",
      " 5   country       7280 non-null   object\n",
      " 6   date_added    7777 non-null   object\n",
      " 7   release_year  7787 non-null   int64 \n",
      " 8   rating        7780 non-null   object\n",
      " 9   duration      7787 non-null   object\n",
      " 10  listed_in     7787 non-null   object\n",
      " 11  description   7787 non-null   object\n",
      "dtypes: int64(1), object(11)\n",
      "memory usage: 730.2+ KB\n"
     ]
    }
   ],
   "source": [
    "data.info()"
   ]
  },
  {
   "cell_type": "code",
   "execution_count": 5,
   "metadata": {},
   "outputs": [
    {
     "name": "stderr",
     "output_type": "stream",
     "text": [
      "C:\\ProgramData\\Anaconda3\\lib\\site-packages\\sklearn\\utils\\validation.py:73: DataConversionWarning: A column-vector y was passed when a 1d array was expected. Please change the shape of y to (n_samples, ), for example using ravel().\n",
      "  return f(**kwargs)\n"
     ]
    }
   ],
   "source": [
    "## LabelEncoder kategoric veriyi sayısala dönüştürüyoruz\n",
    "from sklearn import preprocessing\n",
    "data=pd.read_csv(\"netflix_titles.csv\")\n",
    "lb=preprocessing.LabelEncoder()\n",
    "\n",
    "yedekKolon1=lb.fit_transform(data[[\"show_id\"]])\n",
    "data[\"show_id\"]=yedekKolon1\n",
    "\n",
    "##datayı yedekliyoruz id ler ve gerçek bilgileri saklamak için\n",
    "yedekData=data\n",
    "\n",
    "yedekKolon2=lb.fit_transform(data[[\"type\"]])\n",
    "data[\"type\"]=yedekKolon2 ## 1->tvShow   0->movie\n",
    "\n",
    "##LabelEncoder ile fit edileceği için hata vermemesi için null değer bulunna kolonlardaki null değerleri siliyoruz\n",
    "data.dropna(subset=[\"country\",\"director\",\"rating\",\"release_year\"],inplace=True)\n",
    "\n",
    "yedekKolon3=lb.fit_transform(data[[\"country\"]])\n",
    "data[\"country\"]=yedekKolon3\n",
    "\n",
    "yedekKolon4=lb.fit_transform(data[[\"director\"]])\n",
    "data[\"director\"]=yedekKolon4\n",
    "\n",
    "yedekKolon5=lb.fit_transform(data[[\"rating\"]])\n",
    "data[\"rating\"]=yedekKolon5\n",
    "\n",
    "##her hangi bir şekilde sayısal değere otomatik olarak dönüştürülmesi sonucunda çok uzun ve karmaşık string ifadeler\n",
    "##bulunduğundan bir işe yaramayacak olan kolonları çıkarıyoruz\n",
    "data.drop(columns=[\"title\",\"cast\",\"date_added\",\"duration\",\"listed_in\",\"description\"],inplace=True)"
   ]
  },
  {
   "cell_type": "code",
   "execution_count": 6,
   "metadata": {},
   "outputs": [
    {
     "data": {
      "text/html": [
       "<div>\n",
       "<style scoped>\n",
       "    .dataframe tbody tr th:only-of-type {\n",
       "        vertical-align: middle;\n",
       "    }\n",
       "\n",
       "    .dataframe tbody tr th {\n",
       "        vertical-align: top;\n",
       "    }\n",
       "\n",
       "    .dataframe thead th {\n",
       "        text-align: right;\n",
       "    }\n",
       "</style>\n",
       "<table border=\"1\" class=\"dataframe\">\n",
       "  <thead>\n",
       "    <tr style=\"text-align: right;\">\n",
       "      <th></th>\n",
       "      <th>show_id</th>\n",
       "      <th>type</th>\n",
       "      <th>director</th>\n",
       "      <th>country</th>\n",
       "      <th>release_year</th>\n",
       "      <th>rating</th>\n",
       "    </tr>\n",
       "  </thead>\n",
       "  <tbody>\n",
       "    <tr>\n",
       "      <th>1</th>\n",
       "      <td>1111</td>\n",
       "      <td>0</td>\n",
       "      <td>1788</td>\n",
       "      <td>264</td>\n",
       "      <td>2016</td>\n",
       "      <td>8</td>\n",
       "    </tr>\n",
       "  </tbody>\n",
       "</table>\n",
       "</div>"
      ],
      "text/plain": [
       "   show_id  type  director  country  release_year  rating\n",
       "1     1111     0      1788      264          2016       8"
      ]
     },
     "execution_count": 6,
     "metadata": {},
     "output_type": "execute_result"
    }
   ],
   "source": [
    "data.head(1) ## 1->tvShow   0->movie"
   ]
  },
  {
   "cell_type": "code",
   "execution_count": 7,
   "metadata": {},
   "outputs": [
    {
     "data": {
      "text/html": [
       "<div>\n",
       "<style scoped>\n",
       "    .dataframe tbody tr th:only-of-type {\n",
       "        vertical-align: middle;\n",
       "    }\n",
       "\n",
       "    .dataframe tbody tr th {\n",
       "        vertical-align: top;\n",
       "    }\n",
       "\n",
       "    .dataframe thead th {\n",
       "        text-align: right;\n",
       "    }\n",
       "</style>\n",
       "<table border=\"1\" class=\"dataframe\">\n",
       "  <thead>\n",
       "    <tr style=\"text-align: right;\">\n",
       "      <th></th>\n",
       "      <th>type</th>\n",
       "      <th>director</th>\n",
       "      <th>country</th>\n",
       "      <th>release_year</th>\n",
       "    </tr>\n",
       "  </thead>\n",
       "  <tbody>\n",
       "    <tr>\n",
       "      <th>1</th>\n",
       "      <td>0</td>\n",
       "      <td>1788</td>\n",
       "      <td>264</td>\n",
       "      <td>2016</td>\n",
       "    </tr>\n",
       "  </tbody>\n",
       "</table>\n",
       "</div>"
      ],
      "text/plain": [
       "   type  director  country  release_year\n",
       "1     0      1788      264          2016"
      ]
     },
     "execution_count": 7,
     "metadata": {},
     "output_type": "execute_result"
    }
   ],
   "source": [
    "data.iloc[:,1:5].head(1)## datada girdi kolonları"
   ]
  },
  {
   "cell_type": "code",
   "execution_count": 8,
   "metadata": {},
   "outputs": [
    {
     "data": {
      "text/html": [
       "<div>\n",
       "<style scoped>\n",
       "    .dataframe tbody tr th:only-of-type {\n",
       "        vertical-align: middle;\n",
       "    }\n",
       "\n",
       "    .dataframe tbody tr th {\n",
       "        vertical-align: top;\n",
       "    }\n",
       "\n",
       "    .dataframe thead th {\n",
       "        text-align: right;\n",
       "    }\n",
       "</style>\n",
       "<table border=\"1\" class=\"dataframe\">\n",
       "  <thead>\n",
       "    <tr style=\"text-align: right;\">\n",
       "      <th></th>\n",
       "      <th>show_id</th>\n",
       "      <th>type</th>\n",
       "      <th>director</th>\n",
       "      <th>country</th>\n",
       "      <th>release_year</th>\n",
       "      <th>rating</th>\n",
       "    </tr>\n",
       "  </thead>\n",
       "  <tbody>\n",
       "    <tr>\n",
       "      <th>show_id</th>\n",
       "      <td>1.000000</td>\n",
       "      <td>-0.012271</td>\n",
       "      <td>-0.001755</td>\n",
       "      <td>0.034366</td>\n",
       "      <td>-0.018371</td>\n",
       "      <td>-0.034239</td>\n",
       "    </tr>\n",
       "    <tr>\n",
       "      <th>type</th>\n",
       "      <td>-0.012271</td>\n",
       "      <td>1.000000</td>\n",
       "      <td>-0.008414</td>\n",
       "      <td>-0.000040</td>\n",
       "      <td>0.071756</td>\n",
       "      <td>0.110339</td>\n",
       "    </tr>\n",
       "    <tr>\n",
       "      <th>director</th>\n",
       "      <td>-0.001755</td>\n",
       "      <td>-0.008414</td>\n",
       "      <td>1.000000</td>\n",
       "      <td>-0.029612</td>\n",
       "      <td>-0.049467</td>\n",
       "      <td>0.024872</td>\n",
       "    </tr>\n",
       "    <tr>\n",
       "      <th>country</th>\n",
       "      <td>0.034366</td>\n",
       "      <td>-0.000040</td>\n",
       "      <td>-0.029612</td>\n",
       "      <td>1.000000</td>\n",
       "      <td>-0.046425</td>\n",
       "      <td>-0.173876</td>\n",
       "    </tr>\n",
       "    <tr>\n",
       "      <th>release_year</th>\n",
       "      <td>-0.018371</td>\n",
       "      <td>0.071756</td>\n",
       "      <td>-0.049467</td>\n",
       "      <td>-0.046425</td>\n",
       "      <td>1.000000</td>\n",
       "      <td>0.223505</td>\n",
       "    </tr>\n",
       "    <tr>\n",
       "      <th>rating</th>\n",
       "      <td>-0.034239</td>\n",
       "      <td>0.110339</td>\n",
       "      <td>0.024872</td>\n",
       "      <td>-0.173876</td>\n",
       "      <td>0.223505</td>\n",
       "      <td>1.000000</td>\n",
       "    </tr>\n",
       "  </tbody>\n",
       "</table>\n",
       "</div>"
      ],
      "text/plain": [
       "               show_id      type  director   country  release_year    rating\n",
       "show_id       1.000000 -0.012271 -0.001755  0.034366     -0.018371 -0.034239\n",
       "type         -0.012271  1.000000 -0.008414 -0.000040      0.071756  0.110339\n",
       "director     -0.001755 -0.008414  1.000000 -0.029612     -0.049467  0.024872\n",
       "country       0.034366 -0.000040 -0.029612  1.000000     -0.046425 -0.173876\n",
       "release_year -0.018371  0.071756 -0.049467 -0.046425      1.000000  0.223505\n",
       "rating       -0.034239  0.110339  0.024872 -0.173876      0.223505  1.000000"
      ]
     },
     "execution_count": 8,
     "metadata": {},
     "output_type": "execute_result"
    }
   ],
   "source": [
    "data.corr()"
   ]
  },
  {
   "cell_type": "code",
   "execution_count": 9,
   "metadata": {},
   "outputs": [
    {
     "name": "stdout",
     "output_type": "stream",
     "text": [
      "                            OLS Regression Results                            \n",
      "==============================================================================\n",
      "Dep. Variable:                 rating   R-squared:                       0.087\n",
      "Model:                            OLS   Adj. R-squared:                  0.086\n",
      "Method:                 Least Squares   F-statistic:                     123.1\n",
      "Date:                Sat, 13 Mar 2021   Prob (F-statistic):          1.55e-100\n",
      "Time:                        00:58:35   Log-Likelihood:                -10659.\n",
      "No. Observations:                5189   AIC:                         2.133e+04\n",
      "Df Residuals:                    5184   BIC:                         2.136e+04\n",
      "Df Model:                           4                                         \n",
      "Covariance Type:            nonrobust                                         \n",
      "==============================================================================\n",
      "                 coef    std err          t      P>|t|      [0.025      0.975]\n",
      "------------------------------------------------------------------------------\n",
      "x1             1.0624      0.148      7.175      0.000       0.772       1.353\n",
      "x2          5.444e-05   2.32e-05      2.351      0.019    9.05e-06    9.98e-05\n",
      "x3            -0.0021      0.000    -12.274      0.000      -0.002      -0.002\n",
      "x4             0.0428      0.003     15.791      0.000       0.037       0.048\n",
      "const        -78.9514      5.458    -14.465      0.000     -89.652     -68.251\n",
      "==============================================================================\n",
      "Omnibus:                       72.101   Durbin-Watson:                   1.794\n",
      "Prob(Omnibus):                  0.000   Jarque-Bera (JB):               78.814\n",
      "Skew:                          -0.256   Prob(JB):                     7.69e-18\n",
      "Kurtosis:                       3.321   Cond. No.                     6.20e+05\n",
      "==============================================================================\n",
      "\n",
      "Warnings:\n",
      "[1] Standard Errors assume that the covariance matrix of the errors is correctly specified.\n",
      "[2] The condition number is large, 6.2e+05. This might indicate that there are\n",
      "strong multicollinearity or other numerical problems.\n"
     ]
    }
   ],
   "source": [
    "##Backward Elimination\n",
    "import statsmodels.api as sm\n",
    "\n",
    "data[\"ekKolon B0 için\"]=np.ones(5189)\n",
    "\n",
    "data_BW=data.iloc[:,[1,2,3,4,6]].values\n",
    "data_BW=np.array(data_BW,dtype=float)\n",
    "model=sm.OLS(data.iloc[:,5],data_BW).fit()\n",
    "print(model.summary())\n",
    "## 0.05(hata payı P>|t|) den büyük olan kolonları çıkarıp tekrar kontrol ediyoruz."
   ]
  },
  {
   "cell_type": "code",
   "execution_count": 10,
   "metadata": {},
   "outputs": [
    {
     "data": {
      "text/html": [
       "<div>\n",
       "<style scoped>\n",
       "    .dataframe tbody tr th:only-of-type {\n",
       "        vertical-align: middle;\n",
       "    }\n",
       "\n",
       "    .dataframe tbody tr th {\n",
       "        vertical-align: top;\n",
       "    }\n",
       "\n",
       "    .dataframe thead th {\n",
       "        text-align: right;\n",
       "    }\n",
       "</style>\n",
       "<table border=\"1\" class=\"dataframe\">\n",
       "  <thead>\n",
       "    <tr style=\"text-align: right;\">\n",
       "      <th></th>\n",
       "      <th>show_id</th>\n",
       "      <th>type</th>\n",
       "      <th>director</th>\n",
       "      <th>country</th>\n",
       "      <th>release_year</th>\n",
       "      <th>rating</th>\n",
       "      <th>ekKolon B0 için</th>\n",
       "    </tr>\n",
       "  </thead>\n",
       "  <tbody>\n",
       "    <tr>\n",
       "      <th>1</th>\n",
       "      <td>1111</td>\n",
       "      <td>0</td>\n",
       "      <td>1788</td>\n",
       "      <td>264</td>\n",
       "      <td>2016</td>\n",
       "      <td>8</td>\n",
       "      <td>1.0</td>\n",
       "    </tr>\n",
       "  </tbody>\n",
       "</table>\n",
       "</div>"
      ],
      "text/plain": [
       "   show_id  type  director  country  release_year  rating  ekKolon B0 için\n",
       "1     1111     0      1788      264          2016       8              1.0"
      ]
     },
     "execution_count": 10,
     "metadata": {},
     "output_type": "execute_result"
    }
   ],
   "source": [
    "data.head(1)"
   ]
  },
  {
   "cell_type": "code",
   "execution_count": 11,
   "metadata": {},
   "outputs": [
    {
     "data": {
      "text/html": [
       "<div>\n",
       "<style scoped>\n",
       "    .dataframe tbody tr th:only-of-type {\n",
       "        vertical-align: middle;\n",
       "    }\n",
       "\n",
       "    .dataframe tbody tr th {\n",
       "        vertical-align: top;\n",
       "    }\n",
       "\n",
       "    .dataframe thead th {\n",
       "        text-align: right;\n",
       "    }\n",
       "</style>\n",
       "<table border=\"1\" class=\"dataframe\">\n",
       "  <thead>\n",
       "    <tr style=\"text-align: right;\">\n",
       "      <th></th>\n",
       "      <th>show_id</th>\n",
       "      <th>type</th>\n",
       "      <th>director</th>\n",
       "      <th>country</th>\n",
       "      <th>release_year</th>\n",
       "      <th>rating</th>\n",
       "    </tr>\n",
       "  </thead>\n",
       "  <tbody>\n",
       "    <tr>\n",
       "      <th>1</th>\n",
       "      <td>1111</td>\n",
       "      <td>0</td>\n",
       "      <td>1788</td>\n",
       "      <td>264</td>\n",
       "      <td>2016</td>\n",
       "      <td>8</td>\n",
       "    </tr>\n",
       "  </tbody>\n",
       "</table>\n",
       "</div>"
      ],
      "text/plain": [
       "   show_id  type  director  country  release_year  rating\n",
       "1     1111     0      1788      264          2016       8"
      ]
     },
     "execution_count": 11,
     "metadata": {},
     "output_type": "execute_result"
    }
   ],
   "source": [
    "data.drop(columns=[\"ekKolon B0 için\"],inplace=True)\n",
    "data.head(1)"
   ]
  },
  {
   "cell_type": "code",
   "execution_count": 12,
   "metadata": {},
   "outputs": [
    {
     "data": {
      "text/html": [
       "<div>\n",
       "<style scoped>\n",
       "    .dataframe tbody tr th:only-of-type {\n",
       "        vertical-align: middle;\n",
       "    }\n",
       "\n",
       "    .dataframe tbody tr th {\n",
       "        vertical-align: top;\n",
       "    }\n",
       "\n",
       "    .dataframe thead th {\n",
       "        text-align: right;\n",
       "    }\n",
       "</style>\n",
       "<table border=\"1\" class=\"dataframe\">\n",
       "  <thead>\n",
       "    <tr style=\"text-align: right;\">\n",
       "      <th></th>\n",
       "      <th>type</th>\n",
       "      <th>director</th>\n",
       "      <th>country</th>\n",
       "      <th>release_year</th>\n",
       "    </tr>\n",
       "  </thead>\n",
       "  <tbody>\n",
       "    <tr>\n",
       "      <th>1</th>\n",
       "      <td>0</td>\n",
       "      <td>1788</td>\n",
       "      <td>264</td>\n",
       "      <td>2016</td>\n",
       "    </tr>\n",
       "  </tbody>\n",
       "</table>\n",
       "</div>"
      ],
      "text/plain": [
       "   type  director  country  release_year\n",
       "1     0      1788      264          2016"
      ]
     },
     "execution_count": 12,
     "metadata": {},
     "output_type": "execute_result"
    }
   ],
   "source": [
    "data.iloc[:,1:5].head(1)"
   ]
  },
  {
   "cell_type": "code",
   "execution_count": 13,
   "metadata": {},
   "outputs": [],
   "source": [
    "from sklearn.model_selection import train_test_split\n",
    "x_train, x_test, y_train, y_test = train_test_split(data.iloc[:,1:5] , data[\"rating\"] , test_size=0.33,random_state=0)"
   ]
  },
  {
   "cell_type": "code",
   "execution_count": 14,
   "metadata": {},
   "outputs": [],
   "source": [
    "##Linear-MultiLinear(more column than one) Predict\n",
    "from sklearn.linear_model import LinearRegression\n",
    "LR=LinearRegression()\n",
    "LR.fit(x_train,y_train)\n",
    "predLinear=LR.predict(x_test)"
   ]
  },
  {
   "cell_type": "code",
   "execution_count": 15,
   "metadata": {},
   "outputs": [
    {
     "data": {
      "image/png": "[encoded data removed]",
      "text/plain": [
       "<Figure size 432x288 with 1 Axes>"
      ]
     },
     "metadata": {
      "needs_background": "light"
     },
     "output_type": "display_data"
    }
   ],
   "source": [
    "##sort and plot\n",
    "df=pd.DataFrame(data=y_test)\n",
    "df[\"predict\"]=predLinear\n",
    "df=df.sort_values(by=[\"rating\"])\n",
    "\n",
    "fig, ax = plt.subplots()\n",
    "ax.scatter(range(0,1713,1), df[\"rating\"],color=\"red\",label=\"Gerçek Değerler\")\n",
    "ax.plot(range(0,1713,1), df[\"predict\"],color=\"blue\",label=\"Predict Eğrisi\")\n",
    "ax.set(xlabel='Test Verileri', ylabel='Rating',\n",
    "       title='Multi Linear Regresyon')\n",
    "##ax.grid()\n",
    "plt.legend()\n",
    "plt.show()"
   ]
  },
  {
   "cell_type": "code",
   "execution_count": 16,
   "metadata": {},
   "outputs": [],
   "source": [
    "##Polynomial Regression\n",
    "from sklearn.preprocessing import PolynomialFeatures\n",
    "from sklearn.linear_model import LinearRegression\n",
    "polyReg=PolynomialFeatures(degree=5)\n",
    "X=x_test.values\n",
    "Y=y_test.values\n",
    "x_poly=polyReg.fit_transform(X)\n",
    "\n",
    "linReg=LinearRegression()\n",
    "linReg.fit(x_poly,y_test)\n",
    "\n",
    "predPoly=linReg.predict(polyReg.fit_transform(X))"
   ]
  },
  {
   "cell_type": "code",
   "execution_count": 17,
   "metadata": {},
   "outputs": [
    {
     "data": {
      "image/png": "[encoded data removed]",
      "text/plain": [
       "<Figure size 432x288 with 1 Axes>"
      ]
     },
     "metadata": {
      "needs_background": "light"
     },
     "output_type": "display_data"
    }
   ],
   "source": [
    "df3=pd.DataFrame(data=y_test)\n",
    "df3[\"predict\"]=predPoly\n",
    "df3=df3.sort_values(by=[\"rating\"])\n",
    "\n",
    "fig, ax2 = plt.subplots()\n",
    "ax2.scatter(range(0,1713,1), df3[\"rating\"],color=\"red\",label=\"Gerçek Değerler\")\n",
    "ax2.plot(range(0,1713,1), df3[\"predict\"],\"b\",label=\"Predict Eğrisi\")\n",
    "\n",
    "ax2.set(xlabel='Test Verileri', ylabel='Rating',\n",
    "       title='Polynomial Regresyon Degree=5')\n",
    "plt.legend()\n",
    "plt.show()"
   ]
  },
  {
   "cell_type": "code",
   "execution_count": 18,
   "metadata": {},
   "outputs": [],
   "source": [
    "## Scaler Ölçekleme\n",
    "from sklearn.preprocessing import StandardScaler\n",
    "X=x_test.values\n",
    "Y=y_test.values\n",
    "\n",
    "sc1=StandardScaler()\n",
    "x_olcekli=sc1.fit_transform(X)\n",
    "sc2=StandardScaler()\n",
    "y_olcekli=sc2.fit_transform(Y.reshape(-1,1))\n"
   ]
  },
  {
   "cell_type": "code",
   "execution_count": 19,
   "metadata": {},
   "outputs": [
    {
     "name": "stderr",
     "output_type": "stream",
     "text": [
      "C:\\ProgramData\\Anaconda3\\lib\\site-packages\\sklearn\\utils\\validation.py:73: DataConversionWarning: A column-vector y was passed when a 1d array was expected. Please change the shape of y to (n_samples, ), for example using ravel().\n",
      "  return f(**kwargs)\n"
     ]
    },
    {
     "data": {
      "image/png": "[encoded data removed]",
      "text/plain": [
       "<Figure size 432x288 with 1 Axes>"
      ]
     },
     "metadata": {
      "needs_background": "light"
     },
     "output_type": "display_data"
    }
   ],
   "source": [
    "##Support Vector Regressiom *Ölçekli veri kullanmamız gerekiyor\n",
    "from sklearn.svm import SVR\n",
    "svr_reg=SVR(kernel='rbf')\n",
    "svr_reg.fit(x_olcekli,y_olcekli)\n",
    "\n",
    "dfSVR=pd.DataFrame(data=y_olcekli)\n",
    "dfSVR[\"predict\"]=svr_reg.predict(x_olcekli)\n",
    "dfSVR=dfSVR.rename(columns={0: \"rating\"})\n",
    "dfSVR=dfSVR.sort_values(by=\"rating\")\n",
    "\n",
    "fig, ax4 = plt.subplots()\n",
    "ax4.scatter(range(0,1713,1), dfSVR[\"rating\"],color=\"red\",label=\"Gerçek Değerler\")\n",
    "ax4.plot(range(0,1713,1), dfSVR[\"predict\"],\"b\",label=\"Predict Eğrisi\")\n",
    "ax4.set(xlabel='Test Verileri', ylabel='Rating',title='SVR-rbf')\n",
    "plt.legend()\n",
    "plt.show()"
   ]
  },
  {
   "cell_type": "code",
   "execution_count": 20,
   "metadata": {},
   "outputs": [
    {
     "name": "stderr",
     "output_type": "stream",
     "text": [
      "C:\\ProgramData\\Anaconda3\\lib\\site-packages\\sklearn\\utils\\validation.py:73: DataConversionWarning: A column-vector y was passed when a 1d array was expected. Please change the shape of y to (n_samples, ), for example using ravel().\n",
      "  return f(**kwargs)\n"
     ]
    },
    {
     "data": {
      "image/png": "[encoded data removed]",
      "text/plain": [
       "<Figure size 432x288 with 1 Axes>"
      ]
     },
     "metadata": {
      "needs_background": "light"
     },
     "output_type": "display_data"
    }
   ],
   "source": [
    "from sklearn.svm import SVR\n",
    "svr_reg=SVR(kernel='linear')\n",
    "svr_reg.fit(x_olcekli,y_olcekli)\n",
    "\n",
    "#plt.scatter(x_olcekli,y_olcekli)\n",
    "#plt.plot(x_olcekli,svr_reg.predict(x_olcekli))\n",
    "\n",
    "df4=pd.DataFrame(data=y_olcekli)\n",
    "df4[\"predict\"]=svr_reg.predict(x_olcekli)\n",
    "df4=df4.rename(columns={0: \"rating\"})\n",
    "df4=df4.sort_values(by=\"rating\")\n",
    "\n",
    "fig, ax4 = plt.subplots()\n",
    "ax4.scatter(range(0,1713,1), df4[\"rating\"],color=\"red\",label=\"Gerçek Değerler\")\n",
    "ax4.plot(range(0,1713,1), df4[\"predict\"],\"b\",label=\"Predict Eğrisi\")\n",
    "ax4.set(xlabel='Test Verileri', ylabel='Rating',\n",
    "       title='SVR-linear')\n",
    "plt.legend()\n",
    "plt.show()\n",
    "##print(x_olcekli)\n",
    "##df4[\"rating\"]"
   ]
  },
  {
   "cell_type": "code",
   "execution_count": 21,
   "metadata": {},
   "outputs": [
    {
     "name": "stderr",
     "output_type": "stream",
     "text": [
      "C:\\ProgramData\\Anaconda3\\lib\\site-packages\\sklearn\\utils\\validation.py:73: DataConversionWarning: A column-vector y was passed when a 1d array was expected. Please change the shape of y to (n_samples, ), for example using ravel().\n",
      "  return f(**kwargs)\n"
     ]
    },
    {
     "data": {
      "image/png": "[encoded data removed]",
      "text/plain": [
       "<Figure size 432x288 with 1 Axes>"
      ]
     },
     "metadata": {
      "needs_background": "light"
     },
     "output_type": "display_data"
    }
   ],
   "source": [
    "from sklearn.svm import SVR\n",
    "svr_reg=SVR(kernel='poly')\n",
    "svr_reg.fit(x_olcekli,y_olcekli)\n",
    "\n",
    "#plt.scatter(x_olcekli,y_olcekli)\n",
    "#plt.plot(x_olcekli,svr_reg.predict(x_olcekli))\n",
    "\n",
    "df4=pd.DataFrame(data=y_olcekli)\n",
    "df4[\"predict\"]=svr_reg.predict(x_olcekli)\n",
    "df4=df4.rename(columns={0: \"rating\"})\n",
    "df4=df4.sort_values(by=\"rating\")\n",
    "\n",
    "fig, ax4 = plt.subplots()\n",
    "ax4.scatter(range(0,1713,1), df4[\"rating\"],color=\"red\",label=\"Gerçek Değerler\")\n",
    "ax4.plot(range(0,1713,1), df4[\"predict\"],\"b\",label=\"Predict Eğrisi\")\n",
    "ax4.set(xlabel='Test Verileri', ylabel='Rating',\n",
    "       title='SVR-poly')\n",
    "plt.legend()\n",
    "plt.show()\n",
    "##print(x_olcekli)\n",
    "##df4[\"rating\"]"
   ]
  },
  {
   "cell_type": "code",
   "execution_count": 22,
   "metadata": {},
   "outputs": [
    {
     "data": {
      "image/png": "[encoded data removed]",
      "text/plain": [
       "<Figure size 432x288 with 1 Axes>"
      ]
     },
     "metadata": {
      "needs_background": "light"
     },
     "output_type": "display_data"
    }
   ],
   "source": [
    "##DecisionTree Regressor\n",
    "from sklearn.tree import DecisionTreeRegressor\n",
    "DT=DecisionTreeRegressor(random_state=0)\n",
    "X=x_test.values\n",
    "Y=y_test.values\n",
    "DT.fit(X,Y)\n",
    "\n",
    "dfDT=pd.DataFrame(data=y_test)\n",
    "dfDT[\"predict\"]=DT.predict(X)\n",
    "dfDT=dfDT.rename(columns={0: \"rating\"})\n",
    "dfDT=dfDT.sort_values(by=[\"rating\"])\n",
    "\n",
    "\n",
    "fig, ax = plt.subplots()\n",
    "ax.scatter(range(0,1713,1), dfDT[\"rating\"],color=\"red\",label=\"Gerçek Değerler\")\n",
    "ax.plot(range(0,1713,1), dfDT[\"predict\"],color=\"blue\",label=\"Predict Eğrisi\")\n",
    "ax.set(xlabel='Test Verileri', ylabel='Rating',title='Decision Tree')\n",
    "ax.grid()\n",
    "plt.legend()\n",
    "plt.show()"
   ]
  },
  {
   "cell_type": "code",
   "execution_count": 23,
   "metadata": {},
   "outputs": [
    {
     "data": {
      "image/png": "[encoded data removed]",
      "text/plain": [
       "<Figure size 432x288 with 1 Axes>"
      ]
     },
     "metadata": {
      "needs_background": "light"
     },
     "output_type": "display_data"
    }
   ],
   "source": [
    "##Random Forest Regressor\n",
    "from sklearn.ensemble import RandomForestRegressor\n",
    "RF=RandomForestRegressor(n_estimators=20,random_state=0)\n",
    "X=x_test.values\n",
    "Y=y_test.values\n",
    "RF.fit(X,Y.ravel())\n",
    "\n",
    "dfRF=pd.DataFrame(data=y_test)\n",
    "dfRF[\"predict\"]=RF.predict(X)\n",
    "dfRF=dfRF.rename(columns={0: \"rating\"})\n",
    "dfRF=dfRF.sort_values(by=[\"rating\"])\n",
    "\n",
    "fig, ax = plt.subplots()\n",
    "ax.scatter(range(0,1713,1), dfRF[\"rating\"],color=\"red\",label=\"Gerçek Değerler\")\n",
    "ax.plot(range(0,1713,1), dfRF[\"predict\"],color=\"blue\",label=\"Predict Eğrisi\")\n",
    "ax.set(xlabel='Test Verileri', ylabel='Rating',title='Random Forest')\n",
    "ax.grid()\n",
    "plt.legend()\n",
    "plt.show()"
   ]
  },
  {
   "cell_type": "code",
   "execution_count": 24,
   "metadata": {},
   "outputs": [
    {
     "data": {
      "text/html": [
       "<div>\n",
       "<style scoped>\n",
       "    .dataframe tbody tr th:only-of-type {\n",
       "        vertical-align: middle;\n",
       "    }\n",
       "\n",
       "    .dataframe tbody tr th {\n",
       "        vertical-align: top;\n",
       "    }\n",
       "\n",
       "    .dataframe thead th {\n",
       "        text-align: right;\n",
       "    }\n",
       "</style>\n",
       "<table border=\"1\" class=\"dataframe\">\n",
       "  <thead>\n",
       "    <tr style=\"text-align: right;\">\n",
       "      <th></th>\n",
       "      <th>R2</th>\n",
       "    </tr>\n",
       "  </thead>\n",
       "  <tbody>\n",
       "    <tr>\n",
       "      <th>Random Forest</th>\n",
       "      <td>0.854106</td>\n",
       "    </tr>\n",
       "    <tr>\n",
       "      <th>Decision Tree</th>\n",
       "      <td>0.998078</td>\n",
       "    </tr>\n",
       "    <tr>\n",
       "      <th>SVR</th>\n",
       "      <td>0.083415</td>\n",
       "    </tr>\n",
       "    <tr>\n",
       "      <th>Polynomial Reg</th>\n",
       "      <td>0.173681</td>\n",
       "    </tr>\n",
       "    <tr>\n",
       "      <th>Linear Reg</th>\n",
       "      <td>0.076938</td>\n",
       "    </tr>\n",
       "  </tbody>\n",
       "</table>\n",
       "</div>"
      ],
      "text/plain": [
       "                      R2\n",
       "Random Forest   0.854106\n",
       "Decision Tree   0.998078\n",
       "SVR             0.083415\n",
       "Polynomial Reg  0.173681\n",
       "Linear Reg      0.076938"
      ]
     },
     "execution_count": 24,
     "metadata": {},
     "output_type": "execute_result"
    }
   ],
   "source": [
    "## R2                                                  ##Regresyon algoritmalarımızın karşılaştırılması karşılaştırması\n",
    "from sklearn.metrics import r2_score\n",
    "\n",
    "veri = {\n",
    "  \"R2\": [r2_score(y_test,RF.predict(X)), r2_score(y_test,DT.predict(X)), r2_score(y_olcekli,svr_reg.predict(x_olcekli)),\n",
    "        r2_score(y_test,linReg.predict(polyReg.fit_transform(X))), r2_score(y_test,LR.predict(x_test))]\n",
    "}\n",
    "pd.DataFrame(data=veri,index = [\"Random Forest\", \"Decision Tree\", \"SVR\",\"Polynomial Reg\",\"Linear Reg\"])\n",
    "##Decision tree de over fitting olduğunu düşünüyorum"
   ]
  },
  {
   "cell_type": "code",
   "execution_count": null,
   "metadata": {},
   "outputs": [],
   "source": [
    "###################################  Şablon  ##################################\n",
    "\n",
    "## LabelEncoder kategoric veriyi sayısala dönüştürüyoruz\n",
    "from sklearn import preprocessing\n",
    "data=pd.read_csv(\"netflix_titles.csv\")\n",
    "lb=preprocessing.LabelEncoder()\n",
    "\n",
    "yedekKolon1=lb.fit_transform(data[[\"show_id\"]])\n",
    "data[\"show_id\"]=yedekKolon1\n",
    "\n",
    "##OneHotEncoder Şablon kod\n",
    "data_yedek=pd.read_csv(\"netflix_titles.csv\")\n",
    "yedek=data_yedek.iloc[:,1:2].values##1:2 -> yani type kolonu\n",
    "lb=preprocessing.LabelEncoder()\n",
    "yedek[:,0]=lb.fit_transform(data_yedek.iloc[:,1]) ##data_yedek.iloc[:,1] -> type kolonu \n",
    "\n",
    "ohe=preprocessing.OneHotEncoder()\n",
    "yedek=ohe.fit_transform(yedek).toarray()\n",
    "print(yedek)\n",
    "\n",
    "yedek=pd.DataFrame(yedek)\n",
    "yedek.head(20)\n",
    "\n",
    "##Backward Elimination\n",
    "import statsmodels.api as sm\n",
    "\n",
    "data[\"ekKolon B0 için\"]=np.ones(5189)\n",
    "data_BW=data.iloc[:,[0,1,2,3,4,6]].values\n",
    "data_BW=np.array(data_BW,dtype=float)\n",
    "model=sm.OLS(data.iloc[:,5],data_BW).fit()\n",
    "print(model.summary())\n",
    "## 0.05(hata payı P>|t|) den büyük olan kolonları çıkarıp tekrar kontrol ediyoruz.\n",
    "\n",
    "\n",
    "##Linear-MultiLinear(more column than one) Predict\n",
    "from sklearn.model_selection import train_test_split\n",
    "from sklearn.linear_model import LinearRegression\n",
    "\n",
    "x_train, x_test, y_train, y_test = train_test_split(data.iloc[:,0:5] , data[\"rating\"] , test_size=0.33,random_state=0)\n",
    "LR=LinearRegression()\n",
    "LR.fit(x_train,y_train)\n",
    "y_pred=LR.predict(x_test)\n",
    "\n",
    "\n",
    "##sort and plot\n",
    "df=pd.DataFrame(data=y_test)\n",
    "df[\"predict\"]=y_pred\n",
    "df=df.sort_values(by=[\"rating\"])\n",
    "\n",
    "fig, ax = plt.subplots()\n",
    "ax.scatter(range(0,1713,1), df2[\"rating\"],color=\"red\",label=\"Gerçek Değerler\")\n",
    "ax.plot(range(0,1713,1), df2[\"predict\"],color=\"blue\",label=\"Predict Eğrisi\")\n",
    "ax.set(xlabel='Test Verileri', ylabel='Rating',title='Multi Linear Regresyon')\n",
    "ax.grid()\n",
    "plt.legend()\n",
    "plt.show()\n",
    "\n",
    "\n",
    "## Polynomial Regression\n",
    "from sklearn.preprocessing import PolynomialFeatures\n",
    "from sklearn.linear_model import LinearRegression\n",
    "polyReg=PolynomialFeatures(degree=2)#####\n",
    "X=x_test.values\n",
    "Y=y_test.values\n",
    "Y=Y.reshape(-1,1)\n",
    "x_poly=polyReg.fit_transform(X)\n",
    "\n",
    "linReg=LinearRegression()\n",
    "linReg.fit(x_poly,y_test)\n",
    "\n",
    "pred=linReg.predict(polyReg.fit_transform(X))\n",
    "pred=pd.DataFrame(pred)\n",
    "pred=pred.sort_values(by=0)\n",
    "\n",
    "## Scaler Ölçekleme\n",
    "from sklearn.preprocessing import StandardScaler\n",
    "X=x_test.values\n",
    "Y=y_test.values\n",
    "\n",
    "sc1=StandardScaler()\n",
    "x_olcekli=sc1.fit_transform(X)\n",
    "sc2=StandardScaler()\n",
    "y_olcekli=sc2.fit_transform(Y.reshape(-1,1))\n",
    "\n",
    "##Support Vector Regressiom *Ölçekli veri kullanmamız gerekiyor\n",
    "from sklearn.svm import SVR\n",
    "svr_reg=SVR(kernel='rbf')\n",
    "svr_reg.fit(x_olcekli,y_olcekli)\n",
    "\n",
    "df4=pd.DataFrame(data=y_olcekli)\n",
    "df4[\"predict\"]=svr_reg.predict(x_olcekli)\n",
    "df4=df4.rename(columns={0: \"rating\"})\n",
    "df4=df4.sort_values(by=\"rating\")\n",
    "\n",
    "fig, ax4 = plt.subplots()\n",
    "ax4.scatter(range(0,1713,1), df4[\"rating\"],color=\"red\",label=\"Gerçek Değerler\")\n",
    "ax4.plot(range(0,1713,1), df4[\"predict\"],\"b\",label=\"Predict Eğrisi\")\n",
    "ax4.set(xlabel='Test Verileri', ylabel='Rating',\n",
    "       title='SVR-rbf')\n",
    "plt.legend()\n",
    "plt.show()\n",
    "\n",
    "\n",
    "##DecisionTree Regressor\n",
    "from sklearn.tree import DecisionTreeRegressor\n",
    "DT=DecisionTreeRegressor(random_state=0)\n",
    "X=x_test.values\n",
    "Y=y_test.values\n",
    "DT.fit(X,Y)\n",
    "\n",
    "dfDT=pd.DataFrame(data=y_test)\n",
    "dfDT[\"predict\"]=DT.predict(X)\n",
    "dfDT=dfDT.rename(columns={0: \"rating\"})\n",
    "dfDT=dfDT.sort_values(by=[\"rating\"])\n",
    "\n",
    "fig, ax = plt.subplots()\n",
    "ax.scatter(range(0,1713,1), dfDT[\"rating\"],color=\"red\",label=\"Gerçek Değerler\")\n",
    "ax.plot(range(0,1713,1), dfDT[\"predict\"],color=\"blue\",label=\"Predict Eğrisi\")\n",
    "ax.set(xlabel='Test Verileri', ylabel='Rating',title='Multi Linear Regresyon')\n",
    "ax.grid()\n",
    "plt.legend()\n",
    "plt.show()\n",
    "\n",
    "##Random Forest Regressor\n",
    "from sklearn.ensemble import RandomForestRegressor\n",
    "RF=RandomForestRegressor(n_estimators=20,random_state=0)\n",
    "X=x_test.values\n",
    "Y=y_test.values\n",
    "RF.fit(X,Y.ravel())\n",
    "\n",
    "dfRF=pd.DataFrame(data=y_test)\n",
    "dfRF[\"predict\"]=RF.predict(X)\n",
    "dfRF=dfRF.rename(columns={0: \"rating\"})\n",
    "dfRF=dfRF.sort_values(by=[\"rating\"])\n",
    "\n",
    "fig, ax = plt.subplots()\n",
    "ax.scatter(range(0,1713,1), dfRF[\"rating\"],color=\"red\",label=\"Gerçek Değerler\")\n",
    "ax.plot(range(0,1713,1), dfRF[\"predict\"],color=\"blue\",label=\"Predict Eğrisi\")\n",
    "ax.set(xlabel='Test Verileri', ylabel='Rating',title='Random Forest')\n",
    "ax.grid()\n",
    "plt.legend()\n",
    "plt.show()\n",
    "\n",
    "## R2  ##Regresyon algoritmalarımızın karşılaştırılması karşılaştırması\n",
    "from sklearn.metrics import r2_score\n",
    "\n",
    "veri = {\n",
    "  \"R2\": [r2_score(y_test,RF.predict(X)), r2_score(y_test,DT.predict(X)), r2_score(y_olcekli,svr_reg.predict(x_olcekli)),\n",
    "        r2_score(y_test,linReg.predict(polyReg.fit_transform(X))), r2_score(y_test,LR.predict(x_test))]\n",
    "}\n",
    "pd.DataFrame(data=veri,index = [\"Random Forest\", \"Decision Tree\", \"SVR\",\"Polynomial Reg\",\"Linear Reg\"])"
   ]
  }
 ],
 "metadata": {
  "kernelspec": {
   "display_name": "Python 3",
   "language": "python",
   "name": "python3"
  },
  "language_info": {
   "codemirror_mode": {
    "name": "ipython",
    "version": 3
   },
   "file_extension": ".py",
   "mimetype": "text/x-python",
   "name": "python",
   "nbconvert_exporter": "python",
   "pygments_lexer": "ipython3",
   "version": "3.8.3"
  }
 },
 "nbformat": 4,
 "nbformat_minor": 4
}
