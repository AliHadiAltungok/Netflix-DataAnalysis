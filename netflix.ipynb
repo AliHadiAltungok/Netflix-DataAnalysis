{
 "cells": [
  {
   "cell_type": "code",
   "execution_count": 96,
   "metadata": {},
   "outputs": [],
   "source": [
    "import pandas as pd\n",
    "import numpy as np\n",
    "import matplotlib.pyplot as plt"
   ]
  },
  {
   "cell_type": "code",
   "execution_count": 97,
   "metadata": {},
   "outputs": [
    {
     "data": {
      "text/plain": [
       "(7787, 12)"
      ]
     },
     "execution_count": 97,
     "metadata": {},
     "output_type": "execute_result"
    }
   ],
   "source": [
    "dataAsıl=pd.read_csv(\"netflix_titles.csv\")\n",
    "dataAsıl.shape"
   ]
  },
  {
   "cell_type": "code",
   "execution_count": 98,
   "metadata": {},
   "outputs": [
    {
     "data": {
      "text/html": [
       "<div>\n",
       "<style scoped>\n",
       "    .dataframe tbody tr th:only-of-type {\n",
       "        vertical-align: middle;\n",
       "    }\n",
       "\n",
       "    .dataframe tbody tr th {\n",
       "        vertical-align: top;\n",
       "    }\n",
       "\n",
       "    .dataframe thead th {\n",
       "        text-align: right;\n",
       "    }\n",
       "</style>\n",
       "<table border=\"1\" class=\"dataframe\">\n",
       "  <thead>\n",
       "    <tr style=\"text-align: right;\">\n",
       "      <th></th>\n",
       "      <th>show_id</th>\n",
       "      <th>type</th>\n",
       "      <th>title</th>\n",
       "      <th>director</th>\n",
       "      <th>cast</th>\n",
       "      <th>country</th>\n",
       "      <th>date_added</th>\n",
       "      <th>release_year</th>\n",
       "      <th>rating</th>\n",
       "      <th>duration</th>\n",
       "      <th>listed_in</th>\n",
       "      <th>description</th>\n",
       "    </tr>\n",
       "  </thead>\n",
       "  <tbody>\n",
       "    <tr>\n",
       "      <th>0</th>\n",
       "      <td>s1</td>\n",
       "      <td>TV Show</td>\n",
       "      <td>3%</td>\n",
       "      <td>NaN</td>\n",
       "      <td>João Miguel, Bianca Comparato, Michel Gomes, R...</td>\n",
       "      <td>Brazil</td>\n",
       "      <td>August 14, 2020</td>\n",
       "      <td>2020</td>\n",
       "      <td>TV-MA</td>\n",
       "      <td>4 Seasons</td>\n",
       "      <td>International TV Shows, TV Dramas, TV Sci-Fi &amp;...</td>\n",
       "      <td>In a future where the elite inhabit an island ...</td>\n",
       "    </tr>\n",
       "    <tr>\n",
       "      <th>1</th>\n",
       "      <td>s2</td>\n",
       "      <td>Movie</td>\n",
       "      <td>7:19</td>\n",
       "      <td>Jorge Michel Grau</td>\n",
       "      <td>Demián Bichir, Héctor Bonilla, Oscar Serrano, ...</td>\n",
       "      <td>Mexico</td>\n",
       "      <td>December 23, 2016</td>\n",
       "      <td>2016</td>\n",
       "      <td>TV-MA</td>\n",
       "      <td>93 min</td>\n",
       "      <td>Dramas, International Movies</td>\n",
       "      <td>After a devastating earthquake hits Mexico Cit...</td>\n",
       "    </tr>\n",
       "    <tr>\n",
       "      <th>2</th>\n",
       "      <td>s3</td>\n",
       "      <td>Movie</td>\n",
       "      <td>23:59</td>\n",
       "      <td>Gilbert Chan</td>\n",
       "      <td>Tedd Chan, Stella Chung, Henley Hii, Lawrence ...</td>\n",
       "      <td>Singapore</td>\n",
       "      <td>December 20, 2018</td>\n",
       "      <td>2011</td>\n",
       "      <td>R</td>\n",
       "      <td>78 min</td>\n",
       "      <td>Horror Movies, International Movies</td>\n",
       "      <td>When an army recruit is found dead, his fellow...</td>\n",
       "    </tr>\n",
       "  </tbody>\n",
       "</table>\n",
       "</div>"
      ],
      "text/plain": [
       "  show_id     type  title           director  \\\n",
       "0      s1  TV Show     3%                NaN   \n",
       "1      s2    Movie   7:19  Jorge Michel Grau   \n",
       "2      s3    Movie  23:59       Gilbert Chan   \n",
       "\n",
       "                                                cast    country  \\\n",
       "0  João Miguel, Bianca Comparato, Michel Gomes, R...     Brazil   \n",
       "1  Demián Bichir, Héctor Bonilla, Oscar Serrano, ...     Mexico   \n",
       "2  Tedd Chan, Stella Chung, Henley Hii, Lawrence ...  Singapore   \n",
       "\n",
       "          date_added  release_year rating   duration  \\\n",
       "0    August 14, 2020          2020  TV-MA  4 Seasons   \n",
       "1  December 23, 2016          2016  TV-MA     93 min   \n",
       "2  December 20, 2018          2011      R     78 min   \n",
       "\n",
       "                                           listed_in  \\\n",
       "0  International TV Shows, TV Dramas, TV Sci-Fi &...   \n",
       "1                       Dramas, International Movies   \n",
       "2                Horror Movies, International Movies   \n",
       "\n",
       "                                         description  \n",
       "0  In a future where the elite inhabit an island ...  \n",
       "1  After a devastating earthquake hits Mexico Cit...  \n",
       "2  When an army recruit is found dead, his fellow...  "
      ]
     },
     "execution_count": 98,
     "metadata": {},
     "output_type": "execute_result"
    }
   ],
   "source": [
    "dataAsıl.head(3)"
   ]
  },
  {
   "cell_type": "code",
   "execution_count": 99,
   "metadata": {},
   "outputs": [
    {
     "name": "stderr",
     "output_type": "stream",
     "text": [
      "C:\\ProgramData\\Anaconda3\\lib\\site-packages\\sklearn\\utils\\validation.py:73: DataConversionWarning: A column-vector y was passed when a 1d array was expected. Please change the shape of y to (n_samples, ), for example using ravel().\n",
      "  return f(**kwargs)\n"
     ]
    }
   ],
   "source": [
    "## LabelEncoder kategoric veriyi sayısala dönüştürüyoruz\n",
    "from sklearn import preprocessing\n",
    "data=pd.read_csv(\"netflix_titles.csv\")\n",
    "lb=preprocessing.LabelEncoder()\n",
    "\n",
    "yedekKolon1=lb.fit_transform(data[[\"show_id\"]])\n",
    "data[\"show_id\"]=yedekKolon1\n",
    "\n",
    "##datayı yedekliyoruz id ler ve gerçek bilgileri saklamak için\n",
    "yedekData=data\n",
    "\n",
    "yedekKolon2=lb.fit_transform(data[[\"type\"]])\n",
    "data[\"type\"]=yedekKolon2\n",
    "\n",
    "##LabelEncoder ile fit edileceği için hata vermemesi için null değer bulunna kolonlardaki null değerleri siliyoruz\n",
    "data.dropna(subset=[\"country\",\"director\",\"rating\",\"release_year\"],inplace=True)\n",
    "\n",
    "yedekKolon3=lb.fit_transform(data[[\"country\"]])\n",
    "data[\"country\"]=yedekKolon3\n",
    "\n",
    "yedekKolon4=lb.fit_transform(data[[\"director\"]])\n",
    "data[\"director\"]=yedekKolon4\n",
    "\n",
    "yedekKolon5=lb.fit_transform(data[[\"rating\"]])\n",
    "data[\"rating\"]=yedekKolon5\n",
    "\n",
    "##her hangi bir şekilde sayısal değere otomatik olarak dönüştürülmesi sonucunda çok uzun ve karmaşık string ifadeler\n",
    "##bulunduğundan bir işe yaramayacak olan kolonları çıkarıyoruz\n",
    "data.drop(columns=[\"title\",\"cast\",\"date_added\",\"duration\",\"listed_in\",\"description\"],inplace=True)"
   ]
  },
  {
   "cell_type": "code",
   "execution_count": 100,
   "metadata": {},
   "outputs": [
    {
     "data": {
      "text/html": [
       "<div>\n",
       "<style scoped>\n",
       "    .dataframe tbody tr th:only-of-type {\n",
       "        vertical-align: middle;\n",
       "    }\n",
       "\n",
       "    .dataframe tbody tr th {\n",
       "        vertical-align: top;\n",
       "    }\n",
       "\n",
       "    .dataframe thead th {\n",
       "        text-align: right;\n",
       "    }\n",
       "</style>\n",
       "<table border=\"1\" class=\"dataframe\">\n",
       "  <thead>\n",
       "    <tr style=\"text-align: right;\">\n",
       "      <th></th>\n",
       "      <th>show_id</th>\n",
       "      <th>type</th>\n",
       "      <th>director</th>\n",
       "      <th>country</th>\n",
       "      <th>release_year</th>\n",
       "      <th>rating</th>\n",
       "    </tr>\n",
       "  </thead>\n",
       "  <tbody>\n",
       "    <tr>\n",
       "      <th>1</th>\n",
       "      <td>1111</td>\n",
       "      <td>0</td>\n",
       "      <td>1788</td>\n",
       "      <td>264</td>\n",
       "      <td>2016</td>\n",
       "      <td>8</td>\n",
       "    </tr>\n",
       "    <tr>\n",
       "      <th>2</th>\n",
       "      <td>2222</td>\n",
       "      <td>0</td>\n",
       "      <td>1248</td>\n",
       "      <td>325</td>\n",
       "      <td>2011</td>\n",
       "      <td>5</td>\n",
       "    </tr>\n",
       "    <tr>\n",
       "      <th>3</th>\n",
       "      <td>3333</td>\n",
       "      <td>0</td>\n",
       "      <td>3344</td>\n",
       "      <td>478</td>\n",
       "      <td>2009</td>\n",
       "      <td>4</td>\n",
       "    </tr>\n",
       "  </tbody>\n",
       "</table>\n",
       "</div>"
      ],
      "text/plain": [
       "   show_id  type  director  country  release_year  rating\n",
       "1     1111     0      1788      264          2016       8\n",
       "2     2222     0      1248      325          2011       5\n",
       "3     3333     0      3344      478          2009       4"
      ]
     },
     "execution_count": 100,
     "metadata": {},
     "output_type": "execute_result"
    }
   ],
   "source": [
    "data.head(3) ## 1->tvShow   0->movie"
   ]
  },
  {
   "cell_type": "code",
   "execution_count": 101,
   "metadata": {},
   "outputs": [
    {
     "data": {
      "text/plain": [
       "0"
      ]
     },
     "execution_count": 101,
     "metadata": {},
     "output_type": "execute_result"
    }
   ],
   "source": [
    "## tüm type değerlerinin ya 0 yada 1 olduğunu gösteriyor\n",
    "data[data[\"type\"]==2].shape[0]"
   ]
  },
  {
   "cell_type": "code",
   "execution_count": 102,
   "metadata": {},
   "outputs": [
    {
     "data": {
      "text/html": [
       "<div>\n",
       "<style scoped>\n",
       "    .dataframe tbody tr th:only-of-type {\n",
       "        vertical-align: middle;\n",
       "    }\n",
       "\n",
       "    .dataframe tbody tr th {\n",
       "        vertical-align: top;\n",
       "    }\n",
       "\n",
       "    .dataframe thead th {\n",
       "        text-align: right;\n",
       "    }\n",
       "</style>\n",
       "<table border=\"1\" class=\"dataframe\">\n",
       "  <thead>\n",
       "    <tr style=\"text-align: right;\">\n",
       "      <th></th>\n",
       "      <th>type</th>\n",
       "      <th>director</th>\n",
       "      <th>country</th>\n",
       "      <th>release_year</th>\n",
       "    </tr>\n",
       "  </thead>\n",
       "  <tbody>\n",
       "    <tr>\n",
       "      <th>1</th>\n",
       "      <td>0</td>\n",
       "      <td>1788</td>\n",
       "      <td>264</td>\n",
       "      <td>2016</td>\n",
       "    </tr>\n",
       "    <tr>\n",
       "      <th>2</th>\n",
       "      <td>0</td>\n",
       "      <td>1248</td>\n",
       "      <td>325</td>\n",
       "      <td>2011</td>\n",
       "    </tr>\n",
       "    <tr>\n",
       "      <th>3</th>\n",
       "      <td>0</td>\n",
       "      <td>3344</td>\n",
       "      <td>478</td>\n",
       "      <td>2009</td>\n",
       "    </tr>\n",
       "  </tbody>\n",
       "</table>\n",
       "</div>"
      ],
      "text/plain": [
       "   type  director  country  release_year\n",
       "1     0      1788      264          2016\n",
       "2     0      1248      325          2011\n",
       "3     0      3344      478          2009"
      ]
     },
     "execution_count": 102,
     "metadata": {},
     "output_type": "execute_result"
    }
   ],
   "source": [
    "data.iloc[:,1:5].head(3)## datada girdi kolonları"
   ]
  },
  {
   "cell_type": "code",
   "execution_count": 103,
   "metadata": {},
   "outputs": [
    {
     "data": {
      "text/html": [
       "<div>\n",
       "<style scoped>\n",
       "    .dataframe tbody tr th:only-of-type {\n",
       "        vertical-align: middle;\n",
       "    }\n",
       "\n",
       "    .dataframe tbody tr th {\n",
       "        vertical-align: top;\n",
       "    }\n",
       "\n",
       "    .dataframe thead th {\n",
       "        text-align: right;\n",
       "    }\n",
       "</style>\n",
       "<table border=\"1\" class=\"dataframe\">\n",
       "  <thead>\n",
       "    <tr style=\"text-align: right;\">\n",
       "      <th></th>\n",
       "      <th>show_id</th>\n",
       "      <th>type</th>\n",
       "      <th>director</th>\n",
       "      <th>country</th>\n",
       "      <th>release_year</th>\n",
       "      <th>rating</th>\n",
       "    </tr>\n",
       "  </thead>\n",
       "  <tbody>\n",
       "    <tr>\n",
       "      <th>show_id</th>\n",
       "      <td>1.000000</td>\n",
       "      <td>-0.012271</td>\n",
       "      <td>-0.001755</td>\n",
       "      <td>0.034366</td>\n",
       "      <td>-0.018371</td>\n",
       "      <td>-0.034239</td>\n",
       "    </tr>\n",
       "    <tr>\n",
       "      <th>type</th>\n",
       "      <td>-0.012271</td>\n",
       "      <td>1.000000</td>\n",
       "      <td>-0.008414</td>\n",
       "      <td>-0.000040</td>\n",
       "      <td>0.071756</td>\n",
       "      <td>0.110339</td>\n",
       "    </tr>\n",
       "    <tr>\n",
       "      <th>director</th>\n",
       "      <td>-0.001755</td>\n",
       "      <td>-0.008414</td>\n",
       "      <td>1.000000</td>\n",
       "      <td>-0.029612</td>\n",
       "      <td>-0.049467</td>\n",
       "      <td>0.024872</td>\n",
       "    </tr>\n",
       "    <tr>\n",
       "      <th>country</th>\n",
       "      <td>0.034366</td>\n",
       "      <td>-0.000040</td>\n",
       "      <td>-0.029612</td>\n",
       "      <td>1.000000</td>\n",
       "      <td>-0.046425</td>\n",
       "      <td>-0.173876</td>\n",
       "    </tr>\n",
       "    <tr>\n",
       "      <th>release_year</th>\n",
       "      <td>-0.018371</td>\n",
       "      <td>0.071756</td>\n",
       "      <td>-0.049467</td>\n",
       "      <td>-0.046425</td>\n",
       "      <td>1.000000</td>\n",
       "      <td>0.223505</td>\n",
       "    </tr>\n",
       "    <tr>\n",
       "      <th>rating</th>\n",
       "      <td>-0.034239</td>\n",
       "      <td>0.110339</td>\n",
       "      <td>0.024872</td>\n",
       "      <td>-0.173876</td>\n",
       "      <td>0.223505</td>\n",
       "      <td>1.000000</td>\n",
       "    </tr>\n",
       "  </tbody>\n",
       "</table>\n",
       "</div>"
      ],
      "text/plain": [
       "               show_id      type  director   country  release_year    rating\n",
       "show_id       1.000000 -0.012271 -0.001755  0.034366     -0.018371 -0.034239\n",
       "type         -0.012271  1.000000 -0.008414 -0.000040      0.071756  0.110339\n",
       "director     -0.001755 -0.008414  1.000000 -0.029612     -0.049467  0.024872\n",
       "country       0.034366 -0.000040 -0.029612  1.000000     -0.046425 -0.173876\n",
       "release_year -0.018371  0.071756 -0.049467 -0.046425      1.000000  0.223505\n",
       "rating       -0.034239  0.110339  0.024872 -0.173876      0.223505  1.000000"
      ]
     },
     "execution_count": 103,
     "metadata": {},
     "output_type": "execute_result"
    }
   ],
   "source": [
    "data.corr()"
   ]
  },
  {
   "cell_type": "code",
   "execution_count": 104,
   "metadata": {},
   "outputs": [
    {
     "name": "stdout",
     "output_type": "stream",
     "text": [
      "                            OLS Regression Results                            \n",
      "==============================================================================\n",
      "Dep. Variable:                 rating   R-squared:                       0.087\n",
      "Model:                            OLS   Adj. R-squared:                  0.086\n",
      "Method:                 Least Squares   F-statistic:                     123.1\n",
      "Date:                Tue, 02 Mar 2021   Prob (F-statistic):          1.55e-100\n",
      "Time:                        21:54:57   Log-Likelihood:                -10659.\n",
      "No. Observations:                5189   AIC:                         2.133e+04\n",
      "Df Residuals:                    5184   BIC:                         2.136e+04\n",
      "Df Model:                           4                                         \n",
      "Covariance Type:            nonrobust                                         \n",
      "==============================================================================\n",
      "                 coef    std err          t      P>|t|      [0.025      0.975]\n",
      "------------------------------------------------------------------------------\n",
      "x1             1.0624      0.148      7.175      0.000       0.772       1.353\n",
      "x2          5.444e-05   2.32e-05      2.351      0.019    9.05e-06    9.98e-05\n",
      "x3            -0.0021      0.000    -12.274      0.000      -0.002      -0.002\n",
      "x4             0.0428      0.003     15.791      0.000       0.037       0.048\n",
      "const        -78.9514      5.458    -14.465      0.000     -89.652     -68.251\n",
      "==============================================================================\n",
      "Omnibus:                       72.101   Durbin-Watson:                   1.794\n",
      "Prob(Omnibus):                  0.000   Jarque-Bera (JB):               78.814\n",
      "Skew:                          -0.256   Prob(JB):                     7.69e-18\n",
      "Kurtosis:                       3.321   Cond. No.                     6.20e+05\n",
      "==============================================================================\n",
      "\n",
      "Warnings:\n",
      "[1] Standard Errors assume that the covariance matrix of the errors is correctly specified.\n",
      "[2] The condition number is large, 6.2e+05. This might indicate that there are\n",
      "strong multicollinearity or other numerical problems.\n"
     ]
    }
   ],
   "source": [
    "##Backward Elimination\n",
    "import statsmodels.api as sm\n",
    "\n",
    "data[\"ekKolon B0 için\"]=np.ones(5189)\n",
    "\n",
    "data_BW=data.iloc[:,[1,2,3,4,6]].values\n",
    "data_BW=np.array(data_BW,dtype=float)\n",
    "model=sm.OLS(data.iloc[:,5],data_BW).fit()\n",
    "print(model.summary())\n",
    "## 0.05(hata payı P>|t|) den büyük olan kolonları çıkarıp tekrar kontrol ediyoruz."
   ]
  },
  {
   "cell_type": "code",
   "execution_count": 105,
   "metadata": {},
   "outputs": [
    {
     "data": {
      "text/html": [
       "<div>\n",
       "<style scoped>\n",
       "    .dataframe tbody tr th:only-of-type {\n",
       "        vertical-align: middle;\n",
       "    }\n",
       "\n",
       "    .dataframe tbody tr th {\n",
       "        vertical-align: top;\n",
       "    }\n",
       "\n",
       "    .dataframe thead th {\n",
       "        text-align: right;\n",
       "    }\n",
       "</style>\n",
       "<table border=\"1\" class=\"dataframe\">\n",
       "  <thead>\n",
       "    <tr style=\"text-align: right;\">\n",
       "      <th></th>\n",
       "      <th>show_id</th>\n",
       "      <th>type</th>\n",
       "      <th>director</th>\n",
       "      <th>country</th>\n",
       "      <th>release_year</th>\n",
       "      <th>rating</th>\n",
       "      <th>ekKolon B0 için</th>\n",
       "    </tr>\n",
       "  </thead>\n",
       "  <tbody>\n",
       "    <tr>\n",
       "      <th>1</th>\n",
       "      <td>1111</td>\n",
       "      <td>0</td>\n",
       "      <td>1788</td>\n",
       "      <td>264</td>\n",
       "      <td>2016</td>\n",
       "      <td>8</td>\n",
       "      <td>1.0</td>\n",
       "    </tr>\n",
       "  </tbody>\n",
       "</table>\n",
       "</div>"
      ],
      "text/plain": [
       "   show_id  type  director  country  release_year  rating  ekKolon B0 için\n",
       "1     1111     0      1788      264          2016       8              1.0"
      ]
     },
     "execution_count": 105,
     "metadata": {},
     "output_type": "execute_result"
    }
   ],
   "source": [
    "data.head(1)"
   ]
  },
  {
   "cell_type": "code",
   "execution_count": 106,
   "metadata": {},
   "outputs": [
    {
     "data": {
      "text/html": [
       "<div>\n",
       "<style scoped>\n",
       "    .dataframe tbody tr th:only-of-type {\n",
       "        vertical-align: middle;\n",
       "    }\n",
       "\n",
       "    .dataframe tbody tr th {\n",
       "        vertical-align: top;\n",
       "    }\n",
       "\n",
       "    .dataframe thead th {\n",
       "        text-align: right;\n",
       "    }\n",
       "</style>\n",
       "<table border=\"1\" class=\"dataframe\">\n",
       "  <thead>\n",
       "    <tr style=\"text-align: right;\">\n",
       "      <th></th>\n",
       "      <th>show_id</th>\n",
       "      <th>type</th>\n",
       "      <th>director</th>\n",
       "      <th>country</th>\n",
       "      <th>release_year</th>\n",
       "      <th>rating</th>\n",
       "    </tr>\n",
       "  </thead>\n",
       "  <tbody>\n",
       "    <tr>\n",
       "      <th>1</th>\n",
       "      <td>1111</td>\n",
       "      <td>0</td>\n",
       "      <td>1788</td>\n",
       "      <td>264</td>\n",
       "      <td>2016</td>\n",
       "      <td>8</td>\n",
       "    </tr>\n",
       "  </tbody>\n",
       "</table>\n",
       "</div>"
      ],
      "text/plain": [
       "   show_id  type  director  country  release_year  rating\n",
       "1     1111     0      1788      264          2016       8"
      ]
     },
     "execution_count": 106,
     "metadata": {},
     "output_type": "execute_result"
    }
   ],
   "source": [
    "data.drop(columns=[\"ekKolon B0 için\"],inplace=True)\n",
    "data.head(1)"
   ]
  },
  {
   "cell_type": "code",
   "execution_count": 107,
   "metadata": {},
   "outputs": [
    {
     "data": {
      "text/html": [
       "<div>\n",
       "<style scoped>\n",
       "    .dataframe tbody tr th:only-of-type {\n",
       "        vertical-align: middle;\n",
       "    }\n",
       "\n",
       "    .dataframe tbody tr th {\n",
       "        vertical-align: top;\n",
       "    }\n",
       "\n",
       "    .dataframe thead th {\n",
       "        text-align: right;\n",
       "    }\n",
       "</style>\n",
       "<table border=\"1\" class=\"dataframe\">\n",
       "  <thead>\n",
       "    <tr style=\"text-align: right;\">\n",
       "      <th></th>\n",
       "      <th>type</th>\n",
       "      <th>director</th>\n",
       "      <th>country</th>\n",
       "      <th>release_year</th>\n",
       "    </tr>\n",
       "  </thead>\n",
       "  <tbody>\n",
       "    <tr>\n",
       "      <th>1</th>\n",
       "      <td>0</td>\n",
       "      <td>1788</td>\n",
       "      <td>264</td>\n",
       "      <td>2016</td>\n",
       "    </tr>\n",
       "  </tbody>\n",
       "</table>\n",
       "</div>"
      ],
      "text/plain": [
       "   type  director  country  release_year\n",
       "1     0      1788      264          2016"
      ]
     },
     "execution_count": 107,
     "metadata": {},
     "output_type": "execute_result"
    }
   ],
   "source": [
    "data.iloc[:,1:5].head(1)"
   ]
  },
  {
   "cell_type": "code",
   "execution_count": 108,
   "metadata": {},
   "outputs": [
    {
     "data": {
      "text/plain": [
       "(1713,)"
      ]
     },
     "execution_count": 108,
     "metadata": {},
     "output_type": "execute_result"
    }
   ],
   "source": [
    "##Linear-MultiLinear(more column than one) Predict\n",
    "from sklearn.model_selection import train_test_split\n",
    "from sklearn.linear_model import LinearRegression\n",
    "\n",
    "x_train, x_test, y_train, y_test = train_test_split(data.iloc[:,1:5] , data[\"rating\"] , test_size=0.33,random_state=0)\n",
    "\n",
    "LR=LinearRegression()\n",
    "LR.fit(x_train,y_train)\n",
    "y_pred=LR.predict(x_test)\n",
    "\n",
    "y_pred.shape"
   ]
  },
  {
   "cell_type": "code",
   "execution_count": 109,
   "metadata": {},
   "outputs": [
    {
     "data": {
      "image/png": "[encoded data removed]",
      "text/plain": [
       "<Figure size 432x288 with 1 Axes>"
      ]
     },
     "metadata": {
      "needs_background": "light"
     },
     "output_type": "display_data"
    }
   ],
   "source": [
    "## sort and plot \n",
    "y_test=y_test.sort_values()\n",
    "\n",
    "y_pred=pd.DataFrame(y_pred)\n",
    "y_pred=y_pred.sort_values(by=0)\n",
    "\n",
    "fig, ax = plt.subplots()\n",
    "##ax.plot(range(0,1713,1), y_test)\n",
    "ax.scatter(range(0,1713,1), y_test)\n",
    "ax.plot(range(0,1713,1), y_pred)\n",
    "\n",
    "ax.set(xlabel='member', ylabel='rating',\n",
    "       title='title')\n",
    "##ax.grid()\n",
    "\n",
    "plt.show()"
   ]
  },
  {
   "cell_type": "code",
   "execution_count": null,
   "metadata": {},
   "outputs": [],
   "source": []
  },
  {
   "cell_type": "code",
   "execution_count": null,
   "metadata": {},
   "outputs": [],
   "source": [
    "\n",
    "\n",
    "\n",
    "\n",
    "\n",
    "\n",
    "\n"
   ]
  },
  {
   "cell_type": "code",
   "execution_count": null,
   "metadata": {},
   "outputs": [],
   "source": [
    "###################################  Şablon  ##################################\n",
    "\n",
    "## LabelEncoder kategoric veriyi sayısala dönüştürüyoruz\n",
    "from sklearn import preprocessing\n",
    "data=pd.read_csv(\"netflix_titles.csv\")\n",
    "lb=preprocessing.LabelEncoder()\n",
    "\n",
    "yedekKolon1=lb.fit_transform(data[[\"show_id\"]])\n",
    "data[\"show_id\"]=yedekKolon1\n",
    "\n",
    "\n",
    "##OneHotEncoder Şablon kod\n",
    "data_yedek=pd.read_csv(\"netflix_titles.csv\")\n",
    "yedek=data_yedek.iloc[:,1:2].values##1:2 -> yani type kolonu\n",
    "lb=preprocessing.LabelEncoder()\n",
    "yedek[:,0]=lb.fit_transform(data_yedek.iloc[:,1]) ##data_yedek.iloc[:,1] -> type kolonu \n",
    "\n",
    "ohe=preprocessing.OneHotEncoder()\n",
    "yedek=ohe.fit_transform(yedek).toarray()\n",
    "print(yedek)\n",
    "\n",
    "yedek=pd.DataFrame(yedek)\n",
    "yedek.head(20)\n",
    "\n",
    "\n",
    "\n",
    "##Linear-MultiLinear(more column than one) Predict\n",
    "from sklearn.model_selection import train_test_split\n",
    "from sklearn.linear_model import LinearRegression\n",
    "\n",
    "x_train, x_test, y_train, y_test = train_test_split(data.iloc[:,0:5] , data[\"rating\"] , test_size=0.33,random_state=0)\n",
    "\n",
    "LR=LinearRegression()\n",
    "LR.fit(x_train,y_train)\n",
    "y_pred=LR.predict(x_test)\n",
    "\n",
    "y_pred.shape\n",
    "\n",
    "\n",
    "##Backward Elimination\n",
    "import statsmodels.api as sm\n",
    "\n",
    "data[\"ekKolon B0 için\"]=np.ones(5189)\n",
    "\n",
    "data_BW=data.iloc[:,[0,1,2,3,4,6]].values\n",
    "data_BW=np.array(data_BW,dtype=float)\n",
    "model=sm.OLS(data.iloc[:,5],data_BW).fit()\n",
    "print(model.summary())\n",
    "## 0.05(hata payı P>|t|) den büyük olan kolonları çıkarıp tekrar kontrol ediyoruz.\n",
    "\n",
    "\n",
    "\n",
    "## sort and plot \n",
    "y_test=y_test.sort_values()\n",
    "\n",
    "y_pred=pd.DataFrame(y_pred)\n",
    "y_pred=y_pred.sort_values(by=0)\n",
    "\n",
    "fig, ax = plt.subplots()\n",
    "ax.plot(range(0,1713,1), y_test)\n",
    "##ax.scatter(range(0,1713,1), y_test)\n",
    "ax.plot(range(0,1713,1), y_pred)\n",
    "\n",
    "ax.set(xlabel='member', ylabel='rating',\n",
    "       title='title')\n",
    "##ax.grid()\n",
    "\n",
    "plt.show()\n"
   ]
  }
 ],
 "metadata": {
  "kernelspec": {
   "display_name": "Python 3",
   "language": "python",
   "name": "python3"
  },
  "language_info": {
   "codemirror_mode": {
    "name": "ipython",
    "version": 3
   },
   "file_extension": ".py",
   "mimetype": "text/x-python",
   "name": "python",
   "nbconvert_exporter": "python",
   "pygments_lexer": "ipython3",
   "version": "3.8.3"
  }
 },
 "nbformat": 4,
 "nbformat_minor": 4
}
